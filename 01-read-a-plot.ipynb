{
 "cells": [
  {
   "cell_type": "markdown",
   "id": "8ef1c7ac",
   "metadata": {},
   "source": [
    "<h1>How to read a plot?</h1>\n",
    "\n",
    "<p class=\"lead\"> \n",
    "Table of Content: \n",
    "\n",
    "- <a href=\"#Get-started-with-a-simple-plot\">Get started with a simple plot</a>\n",
    "- <a href=\"#Anatomy-of-a-figure\">Anatomy of a figure</a>    \n",
    "- <a href=\"#Basic-Matplotlib-syntax\">Basic Matplotlib syntax</a>\n",
    "    \n",
    "</p>\n"
   ]
  },
  {
   "cell_type": "markdown",
   "id": "c0262818",
   "metadata": {},
   "source": [
    "<div>\n",
    "<h2 class=\"breadcrumb\">Get started with a simple plot</h2><p>\n",
    "</div>"
   ]
  },
  {
   "cell_type": "code",
   "execution_count": null,
   "id": "6495d7d0",
   "metadata": {},
   "outputs": [],
   "source": [
    "import matplotlib.pyplot as plt"
   ]
  },
  {
   "cell_type": "code",
   "execution_count": null,
   "id": "f65a6739",
   "metadata": {
    "scrolled": false
   },
   "outputs": [],
   "source": [
    "fig, ax = plt.subplots()  # Create a figure containing a single axes.\n",
    "ax.plot([1, 2, 3, 4], [1, 4, 2, 3]);  # Plot some data on the axes."
   ]
  },
  {
   "cell_type": "markdown",
   "id": "d22bef60",
   "metadata": {},
   "source": [
    "<div>\n",
    "<h2 class=\"breadcrumb\">Anatomy of a figure</h2>\n",
    "</div>"
   ]
  },
  {
   "cell_type": "markdown",
   "id": "0552d585",
   "metadata": {},
   "source": [
    "<img id=\"Image1\" src=\"assets/anatomy.jpeg\" align=\"left\"/>"
   ]
  },
  {
   "cell_type": "markdown",
   "id": "8174ce36",
   "metadata": {},
   "source": [
    "<div class=\"alert alert-info\">\n",
    "<h4>Discussion</h4>\n",
    "\n",
    "What are the differences between Figure, Axes, and Axis? \n",
    "</div>"
   ]
  },
  {
   "cell_type": "markdown",
   "id": "c2221be2",
   "metadata": {},
   "source": [
    "<div class=\"alert alert-info\">\n",
    "<h4>Quiz</h4>\n",
    "\n",
    "How many Axis objects can an Axes include? \n",
    "<details><summary><i><u>(Solution)</u><i></summary><br>\n",
    "    \n",
    "2 for 2D plots and 3 for 3D plots.\n",
    "\n",
    "</details>\n",
    "</div>"
   ]
  },
  {
   "cell_type": "markdown",
   "id": "4528f06f",
   "metadata": {},
   "source": [
    "<div>\n",
    "<h2 class=\"breadcrumb\">Basic Matplotlib syntax</h2>\n",
    "</div>\n",
    "\n",
    "Matplotlib has two coding styles:\n",
    "    \n",
    "- The \"object-orient (OO) style\" where we explicilty create Figures and Axes and call methods on them.\n",
    "- The pyplot MATLAB-like style where we reply on pyplot to automatically create and manage the Figures and Axes.\n",
    "\n",
    "The OO-style is recommendended and thus we will only focus on the OO-style.\n"
   ]
  },
  {
   "cell_type": "code",
   "execution_count": null,
   "id": "061b7321",
   "metadata": {},
   "outputs": [],
   "source": [
    "import matplotlib.pyplot as plt"
   ]
  },
  {
   "cell_type": "markdown",
   "id": "42c713f8",
   "metadata": {},
   "source": [
    "`plt.figure()` returns an empty figure. "
   ]
  },
  {
   "cell_type": "code",
   "execution_count": null,
   "id": "d97b6844",
   "metadata": {},
   "outputs": [],
   "source": [
    "fig = plt.figure()"
   ]
  },
  {
   "cell_type": "markdown",
   "id": "41e8c86e",
   "metadata": {},
   "source": [
    "The simplest way of creating a Figure with an Axes is using `plt.subplots`."
   ]
  },
  {
   "cell_type": "code",
   "execution_count": null,
   "id": "9fe350f8",
   "metadata": {},
   "outputs": [],
   "source": [
    "fig, ax = plt.subplots()  # Create a figure containing a single axes."
   ]
  },
  {
   "cell_type": "markdown",
   "id": "672d3ebf",
   "metadata": {},
   "source": [
    "Add data:"
   ]
  },
  {
   "cell_type": "code",
   "execution_count": null,
   "id": "29d83cc8",
   "metadata": {},
   "outputs": [],
   "source": [
    "fig, ax = plt.subplots()  # Create a figure containing a single axes.\n",
    "ax.plot([1, 2, 3, 4], [1, 4, 2, 3]);  # Plot some data on the axes."
   ]
  },
  {
   "cell_type": "markdown",
   "id": "42c9c215",
   "metadata": {},
   "source": [
    "Add an x-label:"
   ]
  },
  {
   "cell_type": "code",
   "execution_count": null,
   "id": "6507f9bc",
   "metadata": {},
   "outputs": [],
   "source": [
    "fig, ax = plt.subplots()  # Create a figure containing a single axes.\n",
    "ax.plot([1, 2, 3, 4], [1, 4, 2, 3]);  # Plot some data on the axes.\n",
    "ax.set_xlabel('x'); # Add an x-label to the axes.\n"
   ]
  },
  {
   "cell_type": "markdown",
   "id": "063db377",
   "metadata": {},
   "source": [
    "Add a y-label:"
   ]
  },
  {
   "cell_type": "code",
   "execution_count": null,
   "id": "d5f6c448",
   "metadata": {},
   "outputs": [],
   "source": [
    "fig, ax = plt.subplots()  # Create a figure containing a single axes.\n",
    "ax.plot([1, 2, 3, 4], [1, 4, 2, 3]);  # Plot some data on the axes.\n",
    "ax.set_xlabel('x'); # Add an x-label to the axes.\n",
    "ax.set_ylabel('y'); # Add a y-label to the axes."
   ]
  },
  {
   "cell_type": "markdown",
   "id": "8b6d98a8",
   "metadata": {},
   "source": [
    "Add a title:"
   ]
  },
  {
   "cell_type": "code",
   "execution_count": null,
   "id": "d29bc2ce",
   "metadata": {},
   "outputs": [],
   "source": [
    "fig, ax = plt.subplots()  # Create a figure containing a single axes.\n",
    "ax.plot([1, 2, 3, 4], [1, 4, 2, 3]);  # Plot some data on the axes.\n",
    "ax.set_xlabel('x'); # Add an x-label to the axes.\n",
    "ax.set_ylabel('y'); # Add a y-label to the axes.\n",
    "ax.set_title('Simple Plot'); # Add a title to the axes."
   ]
  },
  {
   "cell_type": "markdown",
   "id": "68618073",
   "metadata": {},
   "source": [
    "Note:\n",
    "    \n",
    "- If we do not end the `ax.` statement with a semicolon, we will see the object representation of the plot. \n",
    "- `%matplotlib inline` is no longer needed to show plots in Jupyter Notebook\n"
   ]
  },
  {
   "cell_type": "markdown",
   "id": "d93b0cca",
   "metadata": {},
   "source": [
    "<div class=\"alert alert-info\">\n",
    "<h4>Exercise</h4>\n",
    "\n",
    "Try come up some data on your own and add another line to the plot. \n",
    "<details><summary><i><u>(Solution)</u><i></summary><br>\n",
    "    \n",
    "```python\n",
    "fig, ax = plt.subplots()  # Create a figure containing a single axes.\n",
    "ax.plot([1, 2, 3, 4], [1, 4, 2, 3]);  # Plot some data on the axes.\n",
    "ax.plot([1, 2, 3, 4], [3, 4, 6, 1]);  # Plot some data on the axes.\n",
    "ax.set_xlabel('x'); # Add an x-label to the axes.\n",
    "ax.set_ylabel('y'); # Add a y-label to the axes.\n",
    "ax.set_title('Simple Plot'); # Add a title to the axes.\n",
    "```\n",
    "\n",
    "</details>\n",
    "</div>"
   ]
  },
  {
   "cell_type": "markdown",
   "id": "7b672631",
   "metadata": {},
   "source": [
    "<div class=\"alert alert-info\">\n",
    "<h4>Exercise</h4>\n",
    "\n",
    "Add labels and legends to your plot.\n",
    "<details><summary><i><u>(Solution)</u><i></summary><br>\n",
    "    \n",
    "```python\n",
    "fig, ax = plt.subplots()  # Create a figure containing a single axes.\n",
    "ax.plot([1, 2, 3, 4], [1, 4, 2, 3], label='data 1');  # Plot some data on the axes.\n",
    "ax.plot([1, 2, 3, 4], [3, 4, 6, 1], label='data 2');  # Plot some data on the axes.\n",
    "ax.set_xlabel('x'); # Add an x-label to the axes.\n",
    "ax.set_ylabel('y'); # Add a y-label to the axes.\n",
    "ax.set_title('Simple Plot'); # Add a title to the axes.\n",
    "ax.legend(); # Add a legend\n",
    "```\n",
    "\n",
    "</details>\n",
    "</div>"
   ]
  }
 ],
 "metadata": {
  "kernelspec": {
   "display_name": "Python 3 (ipykernel)",
   "language": "python",
   "name": "python3"
  },
  "language_info": {
   "codemirror_mode": {
    "name": "ipython",
    "version": 3
   },
   "file_extension": ".py",
   "mimetype": "text/x-python",
   "name": "python",
   "nbconvert_exporter": "python",
   "pygments_lexer": "ipython3",
   "version": "3.9.6"
  }
 },
 "nbformat": 4,
 "nbformat_minor": 5
}
