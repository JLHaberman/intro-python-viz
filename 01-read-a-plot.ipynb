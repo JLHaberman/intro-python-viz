{
 "cells": [
  {
   "cell_type": "markdown",
   "id": "316c2030",
   "metadata": {},
   "source": [
    "<h1>How to read a plot?</h1>\n",
    "\n",
    "<p class=\"lead\"> \n",
    "Table of Content: \n",
    "\n",
    "- <a href=\"#Get-started-with-a-simple-plot\">Get started with a simple plot</a>\n",
    "- <a href=\"#Anatomy-of-a-figure\">Anatomy of a figure</a>    \n",
    "- <a href=\"#Basic-Matplotlib-syntax\">Basic Matplotlib syntax</a>\n",
    "    \n",
    "</p>\n"
   ]
  },
  {
   "cell_type": "markdown",
   "id": "6af39c5b",
   "metadata": {},
   "source": [
    "<div>\n",
    "<h2 class=\"breadcrumb\">Get started with a simple plot</h2><p>\n",
    "</div>"
   ]
  },
  {
   "cell_type": "code",
   "execution_count": null,
   "id": "4c17b04f",
   "metadata": {},
   "outputs": [],
   "source": [
    "import matplotlib.pyplot as plt"
   ]
  },
  {
   "cell_type": "code",
   "execution_count": null,
   "id": "d7b95dec",
   "metadata": {
    "scrolled": false
   },
   "outputs": [],
   "source": [
    "fig, ax = plt.subplots()  # Create a figure containing a single axes.\n",
    "ax.plot([1, 2, 3, 4], [1, 4, 2, 3]);  # Plot some data on the axes."
   ]
  },
  {
   "cell_type": "markdown",
   "id": "86c07161",
   "metadata": {},
   "source": [
    "<div>\n",
    "<h2 class=\"breadcrumb\">Anatomy of a figure</h2>\n",
    "</div>"
   ]
  },
  {
   "cell_type": "markdown",
   "id": "344292f6",
   "metadata": {},
   "source": [
    "<img id=\"Image1\" src=\"assets/anatomy.jpeg\" align=\"left\"/>"
   ]
  },
  {
   "cell_type": "markdown",
   "id": "5ad814d6",
   "metadata": {},
   "source": [
    "<div class=\"alert alert-info\">\n",
    "<h4>Discussion</h4>\n",
    "\n",
    "What are the differences between Figure, Axes, and Axis? \n",
    "</div>"
   ]
  },
  {
   "cell_type": "markdown",
   "id": "b635a10d",
   "metadata": {},
   "source": [
    "<div class=\"alert alert-info\">\n",
    "<h4>Quiz</h4>\n",
    "\n",
    "How many Axis objects can an Axes include? \n",
    "<details><summary><i><u>(Solution)</u><i></summary><br>\n",
    "    \n",
    "2 for 2D plots and 3 for 3D plots.\n",
    "\n",
    "</details>\n",
    "</div>"
   ]
  },
  {
   "cell_type": "markdown",
   "id": "d77ce405",
   "metadata": {},
   "source": [
    "<div>\n",
    "<h2 class=\"breadcrumb\">Basic Matplotlib syntax</h2>\n",
    "</div>\n",
    "\n",
    "Matplotlib has two coding styles:\n",
    "    \n",
    "- The \"object-orient (OO) style\" where we explicilty create Figures and Axes and call methods on them.\n",
    "- The pyplot MATLAB-like style where we reply on pyplot to automatically create and manage the Figures and Axes.\n",
    "\n",
    "The OO-style is recommendended and thus we will only focus on the OO-style.\n"
   ]
  },
  {
   "cell_type": "markdown",
   "id": "a20a5aa1",
   "metadata": {},
   "source": [
    "`plt.figure()` returns an empty figure. "
   ]
  },
  {
   "cell_type": "code",
   "execution_count": null,
   "id": "d97b6844",
   "metadata": {},
   "outputs": [],
   "source": [
    "fig = plt.figure()"
   ]
  },
  {
   "cell_type": "markdown",
   "id": "f4ffc391",
   "metadata": {},
   "source": [
    "The simplest way of creating a Figure with an Axes is using `plt.subplots`."
   ]
  },
  {
   "cell_type": "code",
   "execution_count": null,
   "id": "9fe350f8",
   "metadata": {},
   "outputs": [],
   "source": [
    "fig, ax = plt.subplots()  # Create a figure containing a single axes."
   ]
  },
  {
   "cell_type": "markdown",
   "id": "73353a15",
   "metadata": {},
   "source": [
    "### Add plot data:\n",
    "\n"
   ]
  },
  {
   "cell_type": "code",
   "execution_count": null,
   "id": "b8f0711a",
   "metadata": {},
   "outputs": [],
   "source": [
    "ax.plot?\n"
   ]
  },
  {
   "cell_type": "markdown",
   "id": "e8914b87",
   "metadata": {},
   "source": [
    "<div class=\"alert alert-success\">\n",
    "<h4>Tips</h4>\n",
    "\n",
    "To understand how ax.plot works, try `ax.plot?`"
   ]
  },
  {
   "cell_type": "code",
   "execution_count": null,
   "id": "01207789",
   "metadata": {},
   "outputs": [],
   "source": [
    "ax.plot?"
   ]
  },
  {
   "cell_type": "markdown",
   "id": "61825397",
   "metadata": {},
   "source": [
    "- Use x as index array 0...N-1"
   ]
  },
  {
   "cell_type": "code",
   "execution_count": null,
   "id": "22d01d50",
   "metadata": {},
   "outputs": [],
   "source": [
    "fig, ax = plt.subplots()  # Create a figure containing a single axes.\n",
    "ax.plot([1, 4, 2, 3]);  # Plot some data on the axes."
   ]
  },
  {
   "cell_type": "markdown",
   "id": "62047d80",
   "metadata": {},
   "source": [
    "- plot x=[1,2,3,4] y=[1,4,2,3]"
   ]
  },
  {
   "cell_type": "code",
   "execution_count": null,
   "id": "29d83cc8",
   "metadata": {},
   "outputs": [],
   "source": [
    "fig, ax = plt.subplots()  # Create a figure containing a single axes.\n",
    "ax.plot([1, 2, 3, 4], [1, 4, 2, 3]);  # Plot some data on the axes."
   ]
  },
  {
   "cell_type": "markdown",
   "id": "1ed8b5a7",
   "metadata": {},
   "source": [
    "<div class=\"alert alert-success\">\n",
    "<h4>Tips</h4>\n",
    "\n",
    "To see a list of methods, try `ax.<TAB>`.\n"
   ]
  },
  {
   "cell_type": "code",
   "execution_count": null,
   "id": "b712c504",
   "metadata": {},
   "outputs": [],
   "source": [
    "fig, ax = plt.subplots()  # Create a figure containing a single axes.\n",
    "ax.scatter([1, 2, 3, 4], [1, 4, 2, 3]);  # Plot some data on the axes.\n"
   ]
  },
  {
   "cell_type": "code",
   "execution_count": null,
   "id": "3ad14277",
   "metadata": {},
   "outputs": [],
   "source": [
    "fig, ax = plt.subplots()  # Create a figure containing a single axes.\n",
    "ax.bar([1, 2, 3, 4], [1, 4, 2, 3]);  # Plot some data on the axes.\n"
   ]
  },
  {
   "cell_type": "markdown",
   "id": "1169ad10",
   "metadata": {},
   "source": [
    "### Add an x-label:"
   ]
  },
  {
   "cell_type": "code",
   "execution_count": null,
   "id": "6507f9bc",
   "metadata": {},
   "outputs": [],
   "source": [
    "fig, ax = plt.subplots()  # Create a figure containing a single axes.\n",
    "ax.plot([1, 2, 3, 4], [1, 4, 2, 3]);  # Plot some data on the axes.\n",
    "ax.set_xlabel('x'); # Add an x-label to the axes.\n"
   ]
  },
  {
   "cell_type": "markdown",
   "id": "80388fd8",
   "metadata": {},
   "source": [
    "### Add a y-label:"
   ]
  },
  {
   "cell_type": "code",
   "execution_count": null,
   "id": "dc8099ac",
   "metadata": {},
   "outputs": [],
   "source": [
    "fig, ax = plt.subplots()  # Create a figure containing a single axes.\n",
    "ax.plot([1, 2, 3, 4], [1, 4, 2, 3]);  # Plot some data on the axes.\n",
    "ax.set_xlabel('x'); # Add an x-label to the axes.\n",
    "ax.set_ylabel('y'); # Add a y-label to the axes."
   ]
  },
  {
   "cell_type": "markdown",
   "id": "14b5b4ed",
   "metadata": {},
   "source": [
    "### Add a title:"
   ]
  },
  {
   "cell_type": "code",
   "execution_count": null,
   "id": "83a79f87",
   "metadata": {},
   "outputs": [],
   "source": [
    "fig, ax = plt.subplots()  # Create a figure containing a single axes.\n",
    "ax.plot([1, 2, 3, 4], [1, 4, 2, 3]);  # Plot some data on the axes.\n",
    "ax.set_xlabel('x'); # Add an x-label to the axes.\n",
    "ax.set_ylabel('y'); # Add a y-label to the axes.\n",
    "ax.set_title('Simple Plot'); # Add a title to the axes."
   ]
  },
  {
   "cell_type": "markdown",
   "id": "6dfa9528",
   "metadata": {},
   "source": [
    "### Add styling"
   ]
  },
  {
   "cell_type": "code",
   "execution_count": null,
   "id": "ac450717",
   "metadata": {},
   "outputs": [],
   "source": [
    "fig, ax = plt.subplots()  # Create a figure containing a single axes.\n",
    "ax.plot([1, 2, 3, 4], [1, 4, 2, 3], color='pink', marker='+', linestyle='dashed', markersize=12, linewidth=3);  # Plot some data on the axes.\n",
    "ax.set_xlabel('x'); # Add an x-label to the axes.\n",
    "ax.set_ylabel('y'); # Add a y-label to the axes.\n",
    "ax.set_title('Simple Plot'); # Add a title to the axes."
   ]
  },
  {
   "cell_type": "markdown",
   "id": "9d25a5b9",
   "metadata": {},
   "source": [
    "<div class=\"alert alert-success\">\n",
    "<h4>Tips</h4>\n",
    "\n",
    "`%matplotlib inline` is no longer needed to show plots in Jupyter Notebook."
   ]
  },
  {
   "cell_type": "markdown",
   "id": "3e09cf36",
   "metadata": {},
   "source": [
    "<div class=\"alert alert-success\">\n",
    "<h4>Tips</h4>\n",
    "\n",
    "If we do not end the `ax.` statement with a semicolon, we will see the object representation of the plot. \n"
   ]
  },
  {
   "cell_type": "markdown",
   "id": "d93b0cca",
   "metadata": {},
   "source": [
    "<div class=\"alert alert-info\">\n",
    "<h4>Exercise</h4>\n",
    "\n",
    "Try add another line to the plot above and style your plot.  \n",
    "\n",
    "<details><summary><i><u>(Hint)</u><i></summary><br>\n",
    "    \n",
    "- Add another `ax.plot()` line\n",
    "- Change the data \n",
    "</details>\n",
    "    \n",
    "<details><summary><i><u>(Solution)</u><i></summary><br>\n",
    "    \n",
    "```python\n",
    "fig, ax = plt.subplots()  # Create a figure containing a single axes.\n",
    "ax.plot([1, 2, 3, 4], [1, 4, 2, 3], color='pink', marker='+', linestyle='dashed', markersize=12, linewidth=3);  \n",
    "ax.plot([1, 2, 3, 4], [3, 4, 6, 1], color='red', marker='o', linestyle='dashed', markersize=12, linewidth=3); \n",
    "ax.set_xlabel('x'); # Add an x-label to the axes.\n",
    "ax.set_ylabel('y'); # Add a y-label to the axes.\n",
    "ax.set_title('Simple Plot'); # Add a title to the axes.\n",
    "```\n",
    "\n",
    "</details>\n",
    "</div>"
   ]
  },
  {
   "cell_type": "markdown",
   "id": "071144fe",
   "metadata": {},
   "source": [
    "<div class=\"alert alert-info\">\n",
    "<h4>Exercise</h4>\n",
    "\n",
    "Add labels and legends representing two lines in your plot.\n",
    "    \n",
    "<details><summary><i><u>(Hint)</u><i></summary><br>\n",
    "    \n",
    "- Use label='xxx' in ax.plot()\n",
    "- Add ax.legend()\n",
    "</details>\n",
    "    \n",
    "<details><summary><i><u>(Solution)</u><i></summary><br>\n",
    "    \n",
    "```python\n",
    "fig, ax = plt.subplots()  # Create a figure containing a single axes.\n",
    "ax.plot([1, 2, 3, 4], [1, 4, 2, 3], label='data 1', color='pink', marker='+', linestyle='dashed', markersize=12, linewidth=3);  \n",
    "ax.plot([1, 2, 3, 4], [3, 4, 6, 1], label='data 2', color='red', marker='o', linestyle='dashed', markersize=12, linewidth=3); \n",
    "ax.set_xlabel('x'); # Add an x-label to the axes.\n",
    "ax.set_ylabel('y'); # Add a y-label to the axes.\n",
    "ax.set_title('Simple Plot'); # Add a title to the axes.\n",
    "ax.legend(); # Add a legend\n",
    "```\n",
    "\n",
    "</details>\n",
    "</div>"
   ]
  }
 ],
 "metadata": {
  "kernelspec": {
   "display_name": "Python 3 (ipykernel)",
   "language": "python",
   "name": "python3"
  },
  "language_info": {
   "codemirror_mode": {
    "name": "ipython",
    "version": 3
   },
   "file_extension": ".py",
   "mimetype": "text/x-python",
   "name": "python",
   "nbconvert_exporter": "python",
   "pygments_lexer": "ipython3",
   "version": "3.9.6"
  }
 },
 "nbformat": 4,
 "nbformat_minor": 5
}
