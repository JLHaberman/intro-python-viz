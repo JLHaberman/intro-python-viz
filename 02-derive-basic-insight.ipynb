{
 "cells": [
  {
   "cell_type": "markdown",
   "id": "8b26c24f",
   "metadata": {},
   "source": [
    "<h1>How to derive basic insights from data?</h1>\n",
    "<br>\n",
    "We often work with an Excel-like data file, for which Pandas is an appropriate data library. Pandas plotting is built on top of Matplotlib but is a higher-level plotting API (with shorter and more convenient code). \n",
    "\n",
    "\n",
    "<p class=\"lead\"> \n",
    "Table of Content: \n",
    "\n",
    "- <a href=\"#Understanding-Pandas-and-loading-data\">Understanding Pandas and loading data</a>\n",
    "- <a href=\"#Pandas-plotting-API\">Pandas plotting API</a>    \n",
    "- <a href=\"#Pattern-of-a-continuous-variable\">Pattern of a continuous variable</a>\n",
    "- <a href=\"#Pattern-of-a-categorical-variable\">Pattern of a categorical variable</a>\n",
    "- <a href=\"#Relationship-between-two-variables\">Relationship between two variables</a>\n",
    "- <a href=\"#Time-series\">Time series</a>\n",
    "    \n",
    "</p>\n",
    "\n",
    "\n",
    "\n"
   ]
  },
  {
   "cell_type": "markdown",
   "id": "056456ec",
   "metadata": {},
   "source": [
    "<div>\n",
    "<h2 class=\"breadcrumb\">Understanding Pandas and loading data</h2><p>\n",
    "</div>\n",
    "\n",
    "> Pandas DataFrame is a 2-dimensional labeled data structure with columns of potentially different types. You can think of it like a spreadsheet or SQL table, or a dict of Series objects. (pandas.pydata.org)"
   ]
  },
  {
   "cell_type": "code",
   "execution_count": null,
   "id": "a90ad97b",
   "metadata": {},
   "outputs": [],
   "source": [
    "import pandas as pd"
   ]
  },
  {
   "cell_type": "code",
   "execution_count": null,
   "id": "964827b8",
   "metadata": {},
   "outputs": [],
   "source": [
    "df = pd.read_csv('assets/mpg.csv')"
   ]
  },
  {
   "cell_type": "code",
   "execution_count": null,
   "id": "92022532",
   "metadata": {
    "scrolled": false
   },
   "outputs": [],
   "source": [
    "df.head()"
   ]
  },
  {
   "cell_type": "code",
   "execution_count": null,
   "id": "c2a31d26",
   "metadata": {},
   "outputs": [],
   "source": [
    "len(df)"
   ]
  },
  {
   "cell_type": "code",
   "execution_count": null,
   "id": "015503e6",
   "metadata": {},
   "outputs": [],
   "source": [
    "df.describe()"
   ]
  },
  {
   "cell_type": "markdown",
   "id": "bb2c98df",
   "metadata": {},
   "source": [
    "The row and column labels can be accessed respectively by accessing the index and columns attributes:"
   ]
  },
  {
   "cell_type": "code",
   "execution_count": null,
   "id": "387ba419",
   "metadata": {},
   "outputs": [],
   "source": [
    "df.columns"
   ]
  },
  {
   "cell_type": "code",
   "execution_count": null,
   "id": "e70fcc0e",
   "metadata": {},
   "outputs": [],
   "source": [
    "df.index"
   ]
  },
  {
   "cell_type": "markdown",
   "id": "3d2753a8",
   "metadata": {},
   "source": [
    "Use df.column_name or df['column_name'] to get a column:"
   ]
  },
  {
   "cell_type": "code",
   "execution_count": null,
   "id": "082ba4ec",
   "metadata": {},
   "outputs": [],
   "source": [
    "df.weight"
   ]
  },
  {
   "cell_type": "code",
   "execution_count": null,
   "id": "8b51c0fb",
   "metadata": {},
   "outputs": [],
   "source": [
    "df['weight']"
   ]
  },
  {
   "cell_type": "markdown",
   "id": "503ad2d6",
   "metadata": {},
   "source": [
    "<div class=\"alert alert-info\">\n",
    "<h4>Exercise</h4>\n",
    "\n",
    "Try load in another dataset from 'assets/penguins.csv' and call it `dfe`.  \n",
    "    \n",
    "<details><summary><i><u>(Solution)</u><i></summary><br>\n",
    "    \n",
    "```python\n",
    "dfe = pd.read_csv('assets/penguins.csv')\n",
    "```\n",
    "\n",
    "</details>\n",
    "</div>"
   ]
  },
  {
   "cell_type": "markdown",
   "id": "00eb40f3",
   "metadata": {},
   "source": [
    "<div class=\"alert alert-info\">\n",
    "<h4>Exercise</h4>\n",
    "\n",
    "Explore the Penguins dataset.  \n",
    "</div>"
   ]
  },
  {
   "cell_type": "markdown",
   "id": "5c8a6789",
   "metadata": {},
   "source": [
    "<div>\n",
    "<h2 class=\"breadcrumb\">Pandas plotting API</h2><p>\n",
    "</div>"
   ]
  },
  {
   "cell_type": "code",
   "execution_count": null,
   "id": "e1fcc3df",
   "metadata": {
    "scrolled": true
   },
   "outputs": [],
   "source": [
    "df.plot();"
   ]
  },
  {
   "cell_type": "markdown",
   "id": "a1dab708",
   "metadata": {},
   "source": [
    "<div class=\"alert alert-success\">\n",
    "<h4>Tips</h4>\n",
    "\n",
    "To understand how df.plot works, try `df.plot?`"
   ]
  },
  {
   "cell_type": "code",
   "execution_count": null,
   "id": "4c12ae2a",
   "metadata": {},
   "outputs": [],
   "source": [
    "df.plot?"
   ]
  },
  {
   "cell_type": "markdown",
   "id": "69049263",
   "metadata": {},
   "source": [
    "<div>\n",
    "<h2 class=\"breadcrumb\">Pattern of a continuous variable</h2><p>\n",
    "</div>"
   ]
  },
  {
   "cell_type": "code",
   "execution_count": null,
   "id": "03558117",
   "metadata": {},
   "outputs": [],
   "source": [
    "df.head()"
   ]
  },
  {
   "cell_type": "markdown",
   "id": "2fe73532",
   "metadata": {},
   "source": [
    "### Histogram\n",
    "\n",
    "> A `histogram` is a representation of the distribution of data.\n"
   ]
  },
  {
   "cell_type": "code",
   "execution_count": null,
   "id": "79a3dbae",
   "metadata": {},
   "outputs": [],
   "source": [
    "df['mpg'].hist(grid=False);"
   ]
  },
  {
   "cell_type": "code",
   "execution_count": null,
   "id": "f65bd87c",
   "metadata": {},
   "outputs": [],
   "source": [
    "df['mpg'].plot(kind='hist');"
   ]
  },
  {
   "cell_type": "markdown",
   "id": "041d007e",
   "metadata": {},
   "source": [
    "Create histogram plots for two variables:"
   ]
  },
  {
   "cell_type": "code",
   "execution_count": null,
   "id": "20899cf1",
   "metadata": {},
   "outputs": [],
   "source": [
    "df[['mpg', 'horsepower']].plot(kind='hist');"
   ]
  },
  {
   "cell_type": "code",
   "execution_count": null,
   "id": "c5026b89",
   "metadata": {},
   "outputs": [],
   "source": [
    "df[['mpg', 'horsepower']].plot(kind='hist', subplots=True);"
   ]
  },
  {
   "cell_type": "markdown",
   "id": "1f151bfa",
   "metadata": {},
   "source": [
    "What is the distribution of mpg by origin?"
   ]
  },
  {
   "cell_type": "code",
   "execution_count": null,
   "id": "90f500d6",
   "metadata": {},
   "outputs": [],
   "source": [
    "df.groupby('origin')['mpg'].plot(kind='hist', alpha=0.3, legend=True);"
   ]
  },
  {
   "cell_type": "markdown",
   "id": "602d9930",
   "metadata": {},
   "source": [
    "### Kernel Density Estimate plot\n",
    "\n",
    "> In statistics, kernel density estimation (KDE) is a non-parametric way to estimate the probability density function (PDF) of a random variable. This function uses Gaussian kernels and includes automatic bandwidth determination.\n"
   ]
  },
  {
   "cell_type": "code",
   "execution_count": null,
   "id": "79dac2bc",
   "metadata": {
    "scrolled": true
   },
   "outputs": [],
   "source": [
    "df['mpg'].plot(kind='kde');"
   ]
  },
  {
   "cell_type": "code",
   "execution_count": null,
   "id": "404058af",
   "metadata": {},
   "outputs": [],
   "source": [
    "df.groupby('origin')['mpg'].plot(kind='kde', legend=True);"
   ]
  },
  {
   "cell_type": "markdown",
   "id": "f28d0702",
   "metadata": {},
   "source": [
    "<div class=\"alert alert-info\">\n",
    "<h4>Exercise</h4>\n",
    "\n",
    "In the previous exercise, you have loaded the Penguins dataset. In this exerise, try explore the distribution of body mass of penguins and see how the distributions differ by species and sex. \n",
    "    \n",
    "<details><summary><i><u>(Solution)</u><i></summary><br>\n",
    "    \n",
    "```python\n",
    "dfe['body_mass_g'].plot(kind='kde');\n",
    "dfe.groupby('species')['body_mass_g'].plot(kind='kde', legend=True);\n",
    "dfe.groupby('sex')['body_mass_g'].plot(kind='kde', legend=True);\n",
    "dfe.groupby(['sex','species'])['body_mass_g'].plot(kind='kde', legend=True);\n",
    "\n",
    "```\n",
    "\n",
    "</details>\n",
    "</div>"
   ]
  },
  {
   "cell_type": "markdown",
   "id": "7a8fc8c3",
   "metadata": {},
   "source": [
    "<div>\n",
    "<h2 class=\"breadcrumb\">Pattern of a categorial variable</h2><p>\n",
    "</div>"
   ]
  },
  {
   "cell_type": "markdown",
   "id": "d01b83eb",
   "metadata": {},
   "source": [
    "### bar chart"
   ]
  },
  {
   "cell_type": "code",
   "execution_count": null,
   "id": "cb81e600",
   "metadata": {},
   "outputs": [],
   "source": [
    "df.head()"
   ]
  },
  {
   "cell_type": "code",
   "execution_count": null,
   "id": "95e993c8",
   "metadata": {},
   "outputs": [],
   "source": [
    "df['origin'].value_counts()"
   ]
  },
  {
   "cell_type": "code",
   "execution_count": null,
   "id": "ede89f80",
   "metadata": {},
   "outputs": [],
   "source": [
    "df['origin'].value_counts().plot(kind='bar');"
   ]
  },
  {
   "cell_type": "code",
   "execution_count": null,
   "id": "b3e77131",
   "metadata": {},
   "outputs": [],
   "source": [
    "df['origin'].value_counts().plot(kind='barh');"
   ]
  },
  {
   "cell_type": "code",
   "execution_count": null,
   "id": "d496730a",
   "metadata": {},
   "outputs": [],
   "source": [
    "table = df.groupby(['model_year', 'origin']).mean().unstack('origin')['mpg']\n",
    "table"
   ]
  },
  {
   "cell_type": "code",
   "execution_count": null,
   "id": "a80e3185",
   "metadata": {},
   "outputs": [],
   "source": [
    "table.plot(kind='bar', stacked=True);"
   ]
  },
  {
   "cell_type": "markdown",
   "id": "b6e18e08",
   "metadata": {},
   "source": [
    "### Pie chart"
   ]
  },
  {
   "cell_type": "code",
   "execution_count": null,
   "id": "5c3dcd0f",
   "metadata": {},
   "outputs": [],
   "source": [
    "df['origin'].value_counts().plot(kind='pie');"
   ]
  },
  {
   "cell_type": "markdown",
   "id": "4100e443",
   "metadata": {},
   "source": [
    "<div class=\"alert alert-info\">\n",
    "<h4>Exercise</h4>\n",
    "\n",
    "Create two plots with the Penguins dataset:\n",
    "1) Bar plot showing the counts of species. \n",
    "    \n",
    "2) Bar plot showing the mean values of body mass by species and by sex. \n",
    "    \n",
    "    \n",
    "<details><summary><i><u>(Solution)</u><i></summary><br>\n",
    "    \n",
    "```python\n",
    "dfe['species'].value_counts().plot(kind='bar');\n",
    "dfe.groupby(['species', 'sex']).mean().unstack('sex')['body_mass_g'].plot(kind='bar');\n",
    "```\n",
    "\n",
    "</details>\n",
    "</div>"
   ]
  },
  {
   "cell_type": "markdown",
   "id": "f9679efe",
   "metadata": {},
   "source": [
    "<div>\n",
    "<h2 class=\"breadcrumb\">Relationship between two variables</h2><p>\n",
    "</div>"
   ]
  },
  {
   "cell_type": "markdown",
   "id": "2733536a",
   "metadata": {},
   "source": [
    "Relationship between weight and mpg:"
   ]
  },
  {
   "cell_type": "code",
   "execution_count": null,
   "id": "fff4a304",
   "metadata": {},
   "outputs": [],
   "source": [
    "df.plot(x='weight', y='mpg', kind='scatter');"
   ]
  },
  {
   "cell_type": "code",
   "execution_count": null,
   "id": "0241e029",
   "metadata": {},
   "outputs": [],
   "source": [
    "df.plot(x='weight', y='mpg', kind='scatter', title='Relationship bewteen weight and mpg');"
   ]
  },
  {
   "cell_type": "markdown",
   "id": "3d4f8b95",
   "metadata": {},
   "source": [
    "Relationship between weight and mpg by origin:\n",
    "\n",
    "There are often many ways to create the same plot. Here is one way to create this plot. We will see another way in the next notebook. "
   ]
  },
  {
   "cell_type": "code",
   "execution_count": null,
   "id": "4df07127",
   "metadata": {},
   "outputs": [],
   "source": [
    "import matplotlib.pyplot as plt\n",
    "fig, ax = plt.subplots()\n",
    "df[df.origin=='usa'].plot(x='weight', y='mpg', kind='scatter', ax=ax, c='r', label='USA');\n",
    "df[df.origin=='japan'].plot(x='weight', y='mpg', kind='scatter', ax=ax, c='g', label='Japan');\n",
    "df[df.origin=='europe'].plot(x='weight', y='mpg', kind='scatter', ax=ax, c='b', label='Europe');\n"
   ]
  },
  {
   "cell_type": "markdown",
   "id": "ba4c97c5",
   "metadata": {},
   "source": [
    "<div class=\"alert alert-info\">\n",
    "<h4>Exercise</h4>\n",
    "\n",
    "Create two plots with the Penguins dataset:\n",
    "1) Scatter plot showing the relationship between flipper length and body mass. \n",
    "    \n",
    "2) Showing this relationship by species\n",
    "    \n",
    "    \n",
    "<details><summary><i><u>(Solution)</u><i></summary><br>\n",
    "    \n",
    "```python\n",
    "dfe.plot(x='flipper_length_mm', y='body_mass_g', kind='scatter');\n",
    "\n",
    "fig, ax = plt.subplots()\n",
    "dfe[dfe.species=='Adelie'].plot(x='flipper_length_mm', y='body_mass_g', kind='scatter', ax=ax, c='r', label='Adelie');\n",
    "dfe[dfe.species=='Gentoo'].plot(x='flipper_length_mm', y='body_mass_g', kind='scatter', ax=ax, c='g', label='Gentoo');\n",
    "dfe[dfe.species=='Chinstrap'].plot(x='flipper_length_mm', y='body_mass_g', kind='scatter', ax=ax, c='b', label='Chinstrap');\n",
    "\n",
    "```\n",
    "\n",
    "</details>\n",
    "</div>"
   ]
  },
  {
   "cell_type": "markdown",
   "id": "bba44376",
   "metadata": {},
   "source": [
    "<div>\n",
    "<h2 class=\"breadcrumb\">Time series</h2><p>\n",
    "</div>"
   ]
  },
  {
   "cell_type": "code",
   "execution_count": null,
   "id": "f4fe12e7",
   "metadata": {},
   "outputs": [],
   "source": [
    "dft = pd.read_csv(\n",
    "    'assets/air_quality_no2.csv', \n",
    "    index_col=0, \n",
    "    parse_dates=True\n",
    ")"
   ]
  },
  {
   "cell_type": "code",
   "execution_count": null,
   "id": "fadbbee0",
   "metadata": {},
   "outputs": [],
   "source": [
    "dft.head()"
   ]
  },
  {
   "cell_type": "code",
   "execution_count": null,
   "id": "86d2d363",
   "metadata": {},
   "outputs": [],
   "source": [
    "dft.plot();"
   ]
  },
  {
   "cell_type": "code",
   "execution_count": null,
   "id": "ea1630ca",
   "metadata": {},
   "outputs": [],
   "source": [
    "dft.plot(subplots=True, layout=(1,3), figsize=(15,4));"
   ]
  },
  {
   "cell_type": "code",
   "execution_count": null,
   "id": "639e718e",
   "metadata": {},
   "outputs": [],
   "source": [
    "df.plot.area(figsize=(12, 4), subplots=True);"
   ]
  },
  {
   "cell_type": "code",
   "execution_count": null,
   "id": "acabf339",
   "metadata": {},
   "outputs": [],
   "source": [
    "df.plot.area(figsize=(12, 4));"
   ]
  }
 ],
 "metadata": {
  "kernelspec": {
   "display_name": "Python 3 (ipykernel)",
   "language": "python",
   "name": "python3"
  },
  "language_info": {
   "codemirror_mode": {
    "name": "ipython",
    "version": 3
   },
   "file_extension": ".py",
   "mimetype": "text/x-python",
   "name": "python",
   "nbconvert_exporter": "python",
   "pygments_lexer": "ipython3",
   "version": "3.9.6"
  }
 },
 "nbformat": 4,
 "nbformat_minor": 5
}
